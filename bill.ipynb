{
 "cells": [
  {
   "cell_type": "code",
   "execution_count": 4,
   "metadata": {},
   "outputs": [
    {
     "name": "stdout",
     "output_type": "stream",
     "text": [
      "=======================================================\n",
      "                         Bill                          \n",
      "=======================================================\n",
      "                      ABC HOTELS                       \n",
      "                Tilak Road Pune,411038                 \n",
      "=======================================================\n",
      "                                 phono: 1234567890\n",
      "                                    Date: 01/20/25\n",
      "                                 Time: 10:14:38 AM\n",
      "-------------------------------------------------------\n",
      "       Item        Qty      Price     Total Price\n",
      "-------------------------------------------------------\n",
      "         we          2         23              46\n",
      "-------------------------------------------------------\n",
      "                    Final Amount: 46                   \n",
      "                        GST: 1.2                       \n",
      "                Total Final Amount: 47.2               \n",
      "=======================================================\n",
      "                 Here's your QR Code:                  \n",
      "                      ┌────────┐                       \n",
      "                      │ █▀█ █▀ │                       \n",
      "                      │ █▄█ ▄█ │                       \n",
      "                      └────────┘                       \n",
      "                 Thank you for Coming!                 \n",
      "=======================================================\n"
     ]
    }
   ],
   "source": [
    "from datetime import datetime\n",
    "\n",
    "print(\"{:=^55}\".format(\"\"))\n",
    "print(\"{:^55}\".format(\"Bill\"))\n",
    "print(\"{:=^55}\".format(\"\"))\n",
    "print(\"{:^55}\".format(f\"ABC HOTELS\"))\n",
    "print(\"{:^55}\".format(\"Tilak Road Pune,411038\"))\n",
    "print(\"{:=^55}\".format(\"\"))\n",
    "print(\"{:>50}\".format(\"phono: 1234567890\"))\n",
    "\n",
    "was = datetime.now()\n",
    "stm = was.strftime(\"%D\")\n",
    "print(\"{:>50}\".format(f\"Date: {stm}\"))\n",
    "wat = was.time()\n",
    "w = wat.strftime('%H:%M:%S %p')\n",
    "print(\"{:>50}\".format(f\"Time: {w}\"))\n",
    "\n",
    "print(\"{:-^55}\".format(\"\"))\n",
    "print(\" {:>10} {:>10} {:>10} {:>15}\".format(\"Item\", \"Qty\", \"Price\", \"Total Price\"))\n",
    "print(\"{:-^55}\".format(\"\"))\n",
    "sum = 0\n",
    "\n",
    "while True:\n",
    "    choice = int(input(\"Enter Your Choice in no. from [1.Add Item, 2.Print Receipt]: \"))\n",
    "    if choice == 1:\n",
    "        Item = input(\"Enter the Item Name: \")\n",
    "        Qty = int(input(\"Enter the Quantity of Item: \"))\n",
    "        Price = int(input(\"Enter the Price of the Item: \"))\n",
    "        Total_Price = Qty * Price\n",
    "        sum += Total_Price\n",
    "        print(\" {:>10} {:>10} {:>10} {:>15}\".format(Item, Qty, Price, Total_Price))\n",
    "    elif choice == 2:\n",
    "        print(\"{:-^55}\".format(\"\"))\n",
    "        print(\"{:^55}\".format(f\" Final Amount: {sum}\"))\n",
    "        print(\"{:^55}\".format(f\" GST: 1.2\"))\n",
    "        val = sum + 1.2\n",
    "        print(\"{:^55}\".format(f\" Total Final Amount: {val}\"))\n",
    "        print(\"{:=^55}\".format(\"\"))\n",
    "\n",
    "        print(\"{:^55}\".format(\"Here's your QR Code:\"))\n",
    "        print(\"{:^55}\".format(\"┌────────┐\"))\n",
    "        print(\"{:^55}\".format(\"│ █▀█ █▀ │\"))\n",
    "        print(\"{:^55}\".format(\"│ █▄█ ▄█ │\"))\n",
    "        print(\"{:^55}\".format(\"└────────┘\"))\n",
    "\n",
    "        print(\"{:^55}\".format(\"Thank you for Coming!\"))\n",
    "        print(\"{:=^55}\".format(\"\"))\n",
    "        break\n",
    "    else:\n",
    "        print(\"Invalid choice. Please select 1 or 2.\")\n"
   ]
  }
 ],
 "metadata": {
  "kernelspec": {
   "display_name": "base",
   "language": "python",
   "name": "python3"
  },
  "language_info": {
   "codemirror_mode": {
    "name": "ipython",
    "version": 3
   },
   "file_extension": ".py",
   "mimetype": "text/x-python",
   "name": "python",
   "nbconvert_exporter": "python",
   "pygments_lexer": "ipython3",
   "version": "3.10.9"
  }
 },
 "nbformat": 4,
 "nbformat_minor": 2
}
