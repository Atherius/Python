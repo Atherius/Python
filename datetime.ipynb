{
 "cells": [
  {
   "cell_type": "code",
   "execution_count": 7,
   "metadata": {},
   "outputs": [],
   "source": [
    "from datetime import datetime\n",
    "from datetime import date\n",
    "from datetime import time"
   ]
  },
  {
   "cell_type": "code",
   "execution_count": 4,
   "metadata": {},
   "outputs": [],
   "source": [
    "start_date = input(\"Enter the start date (YYYY-MM-DD): \")\n",
    "end_date = input(\"Enter the end date (YYYY-MM-DD): \")\n",
    "    \n",
    "start_date2 = datetime.strptime(start_date, \"%Y-%m-%d\")\n",
    "end_date2 = datetime.strptime(end_date, \"%Y-%m-%d\")"
   ]
  },
  {
   "cell_type": "code",
   "execution_count": 5,
   "metadata": {},
   "outputs": [
    {
     "name": "stdout",
     "output_type": "stream",
     "text": [
      "\n",
      "Enter tasks for weekdays (Monday to Friday):\n",
      "2025-01-11 00:00:00 is a weekend. No task assigned.\n",
      "2025-01-12 00:00:00 is a weekend. No task assigned.\n",
      "2025-01-18 00:00:00 is a weekend. No task assigned.\n",
      "\n",
      "Tasks assigned:\n",
      "2025-01-08 00:00:00: PICNIC\n",
      "2025-01-09 00:00:00: PRAYER\n",
      "2025-01-10 00:00:00: TRIP\n",
      "2025-01-13 00:00:00: LIBRARY\n",
      "2025-01-14 00:00:00: SKATING\n",
      "2025-01-15 00:00:00: CRICKET\n",
      "2025-01-16 00:00:00: CHESS\n",
      "2025-01-17 00:00:00: DEBATE\n"
     ]
    }
   ],
   "source": [
    "import datetime\n",
    "from datetime import timedelta\n",
    "\n",
    "\n",
    "start_date1 = start_date2\n",
    "end_date1 = end_date2\n",
    "\n",
    "\n",
    "if start_date1 > end_date1:\n",
    "    print(\"Error: Start date must be before or equal to the end date.\")\n",
    "else:\n",
    "    print(\"\\nEnter tasks for weekdays (Monday to Friday):\")\n",
    "    tasks = {}\n",
    "    \n",
    "    \n",
    "    date_range = [start_date1 + timedelta(days=i) for i in range((end_date1 - start_date1).days + 1)]\n",
    "    \n",
    "    \n",
    "    for i in date_range:\n",
    "        if i.weekday() < 5:  \n",
    "            task = input(f\"Task for {i} (Weekday): \")\n",
    "            tasks[str(i)] = task\n",
    "        else:\n",
    "            print(f\"{i} is a weekend. No task assigned.\")\n",
    "    \n",
    "    print(\"\\nTasks assigned:\")\n",
    "    for date, task in tasks.items():\n",
    "        print(f\"{date}: {task}\")\n"
   ]
  }
 ],
 "metadata": {
  "kernelspec": {
   "display_name": "base",
   "language": "python",
   "name": "python3"
  },
  "language_info": {
   "codemirror_mode": {
    "name": "ipython",
    "version": 3
   },
   "file_extension": ".py",
   "mimetype": "text/x-python",
   "name": "python",
   "nbconvert_exporter": "python",
   "pygments_lexer": "ipython3",
   "version": "3.10.9"
  }
 },
 "nbformat": 4,
 "nbformat_minor": 2
}
