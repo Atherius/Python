{
 "cells": [
  {
   "cell_type": "code",
   "execution_count": 2,
   "metadata": {},
   "outputs": [],
   "source": [
    "from datetime import datetime\n",
    "from datetime import date\n",
    "from datetime import time"
   ]
  },
  {
   "cell_type": "code",
   "execution_count": 3,
   "metadata": {},
   "outputs": [
    {
     "name": "stdout",
     "output_type": "stream",
     "text": [
      "Your age is: 22\n"
     ]
    }
   ],
   "source": [
    "val = input('\"Enter your date of birth (YYYY-MM-DD): \"')\n",
    "def agee(bdt):\n",
    "    today = datetime.now()\n",
    "    age = today.year - bdt.year\n",
    "    if (today.month, today.day) < (bdt.month, bdt.day):\n",
    "        age -= 1\n",
    "        print(f\"Your age is: {age}\")\n",
    "    \n",
    "try:\n",
    "    bdt=datetime.strptime(val, \"%Y-%m-%d\")\n",
    "except ValueError:\n",
    "    print(\"Incorrect date format, should be YYYY-MM-DD\")\n",
    "    exit()\n",
    "\n",
    "agee(bdt)"
   ]
  }
 ],
 "metadata": {
  "kernelspec": {
   "display_name": "base",
   "language": "python",
   "name": "python3"
  },
  "language_info": {
   "codemirror_mode": {
    "name": "ipython",
    "version": 3
   },
   "file_extension": ".py",
   "mimetype": "text/x-python",
   "name": "python",
   "nbconvert_exporter": "python",
   "pygments_lexer": "ipython3",
   "version": "3.10.9"
  }
 },
 "nbformat": 4,
 "nbformat_minor": 2
}
