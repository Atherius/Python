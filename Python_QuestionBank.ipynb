{
 "cells": [
  {
   "cell_type": "code",
   "execution_count": 1,
   "metadata": {},
   "outputs": [],
   "source": [
    "#imports \n",
    "import re\n",
    "from datetime import datetime\n",
    "import pyodbc\n",
    "import logging\n",
    "import os\n",
    "import shutil\n",
    "import sys\n",
    "import random\n",
    "import string"
   ]
  },
  {
   "cell_type": "markdown",
   "metadata": {},
   "source": [
    ">1.\tCreate the empty list and ask user to enters only int, float elements in the list."
   ]
  },
  {
   "cell_type": "code",
   "execution_count": null,
   "metadata": {},
   "outputs": [
    {
     "name": "stdout",
     "output_type": "stream",
     "text": [
      "[12.2, 2.0, 3.33]\n"
     ]
    }
   ],
   "source": [
    "class list_expansion:\n",
    "    '''A class to accept float and int user input'''\n",
    "    def __init__(self):\n",
    "        '''iniatlizing an empty list'''\n",
    "        self.lst=[]\n",
    "    def input_function(self):\n",
    "        '''function to validate float and int inputs only \n",
    "        else prompt error'''\n",
    "        while True:\n",
    "            c=input('Enter your dcchoice(1.Add value,2.exit): ')\n",
    "            if c=='1':\n",
    "                try:\n",
    "                    v=input('Enter the value(WARNING:Only INT and FLOAT values allowed): ')\n",
    "                    flt=float(v)\n",
    "                    self.lst.append(flt)\n",
    "                    \n",
    "                except ValueError:\n",
    "                    print(f'Value {v} is not either int or float')\n",
    "            elif c=='2':\n",
    "                break\n",
    "            else:\n",
    "                print('Invalid input')\n",
    "        print(self.lst)\n",
    "\n",
    "obj=list_expansion()\n",
    "obj.input_function()\n"
   ]
  },
  {
   "cell_type": "markdown",
   "metadata": {},
   "source": [
    ">2.\tCreate a empty dictionary d1 ask user to enter the values using loop"
   ]
  },
  {
   "cell_type": "code",
   "execution_count": 51,
   "metadata": {},
   "outputs": [
    {
     "name": "stdout",
     "output_type": "stream",
     "text": [
      "Dict Values are:\n",
      "{'key1': 'amal', 'key2': 'shritej', 'key3': 'suraj', 'key4': 'aarif', 'key5': 'abhishek', 'key6': 'prathmesh', 'key7': ''}\n"
     ]
    }
   ],
   "source": [
    "class add_value:\n",
    "    '''class to accept and values for empty dictionary '''\n",
    "    def __init__(self):\n",
    "        '''initializing empty dictinary and counter'''\n",
    "        self.d1={}\n",
    "        self.counter=0\n",
    "\n",
    "    def add_dict_values(self):\n",
    "        '''function to add values to the empty dictionary'''\n",
    "        while True:\n",
    "            try:\n",
    "                value = input(\"Enter the value (or type 'exit' to stop): \").strip()\n",
    "                if value.lower() == \"exit\":  \n",
    "                    break\n",
    "                else:\n",
    "                    self.counter+=1\n",
    "                    self.d1[f\"key{self.counter}\"] = value\n",
    "            except ValueError:\n",
    "                print(f'Value {value} is notvalid!')\n",
    "            \n",
    "obj=add_value()\n",
    "obj.add_dict_values()\n",
    "print('Dict Values are:')\n",
    "print(obj.d1)"
   ]
  },
  {
   "cell_type": "markdown",
   "metadata": {},
   "source": [
    ">3.\tCreate a empty dictionary d1 ask user to enter the values using comprehensive list"
   ]
  },
  {
   "cell_type": "code",
   "execution_count": 44,
   "metadata": {},
   "outputs": [
    {
     "name": "stdout",
     "output_type": "stream",
     "text": [
      "The dictionary is:\n",
      "{'key1': '12', 'key2': '13', 'key3': '14'}\n"
     ]
    }
   ],
   "source": [
    "class valueadd:\n",
    "    '''class to ad values to empty dict'''\n",
    "    def __init__(self):\n",
    "        '''Initializing empty dictionary an acception limit'''\n",
    "        self.d1 = {}\n",
    "        self.limit = int(input(\"Enter the number of values you want to add to the dictionary: \"))\n",
    "    def value_addition(self):\n",
    "        '''using comprehension to add values to the dictionary'''\n",
    "        self.d1 = {f\"key{i+1}\": input(f\"Enter value {i+1}: \") for i in range(self.limit)}\n",
    "\n",
    "obj=valueadd()\n",
    "obj.value_addition()\n",
    "print(\"The dictionary is:\")\n",
    "print(obj.d1)\n"
   ]
  },
  {
   "cell_type": "markdown",
   "metadata": {},
   "source": [
    ">4.\tCreate a function which will accept two integer or float parameter from user and return 4 arithmetic operations in the form of tuple. If user pass argument other than integer and float then error should be created."
   ]
  },
  {
   "cell_type": "code",
   "execution_count": 1,
   "metadata": {},
   "outputs": [
    {
     "name": "stdout",
     "output_type": "stream",
     "text": [
      "sum:7.0, Difference:3.0, Product:10.0, Quotient:2.5\n",
      "Values in Tuple:\n",
      "({7.0}, {3.0}, {10.0}, {2.5})\n"
     ]
    }
   ],
   "source": [
    "class arithmetic_operations:\n",
    "    '''a class to perform arithmetic operations on  2 user input values'''\n",
    "    def __init__(self):\n",
    "        '''initializing user input'''\n",
    "        self.v=input('Enter two values(INT or Float separated by ,):')\n",
    "    def arithmetic_operations(self):\n",
    "        '''function that prints arithmetic operations in a tuple format'''\n",
    "        try: \n",
    "            v1=self.v.split(',') \n",
    "            if len(v1)==2:\n",
    "                a=float(v1[0])\n",
    "                b=float(v1[1])\n",
    "                print(f\"sum:{a+b}, Difference:{a-b}, Product:{a*b}, Quotient:{a/b}\")\n",
    "                print('Values in Tuple:')\n",
    "                lst=[{a+b},{a-b},{a*b},{a/b}]\n",
    "                print(tuple(lst))\n",
    "            else:\n",
    "                print('You have provided more than 2 Values!')\n",
    "        except ValueError:\n",
    "            print('Values given are not valid!')\n",
    "        except ZeroDivisionError:\n",
    "            print('Division by zero is not allowed!')\n",
    "\n",
    "obj=arithmetic_operations()\n",
    "obj.arithmetic_operations()\n",
    "    "
   ]
  },
  {
   "cell_type": "markdown",
   "metadata": {},
   "source": [
    ">5.Based on the above function (Question number 4) dived the outcome of multiplication by 2"
   ]
  },
  {
   "cell_type": "code",
   "execution_count": 4,
   "metadata": {},
   "outputs": [
    {
     "name": "stdout",
     "output_type": "stream",
     "text": [
      "Product of 5.0 and 2.0 is 10.0\n",
      "Product 10.0 divided by 2 is 5.0\n"
     ]
    }
   ],
   "source": [
    "class product_operations(arithmetic_operations):\n",
    "    '''a class to perform product operations on  2 user input values'''\n",
    "    def __init__(self):\n",
    "        '''initializing user input'''\n",
    "        super().__init__()\n",
    "        \n",
    "    def product_operations(self):\n",
    "        '''function that prints product of values divided by 2'''\n",
    "        try: \n",
    "            v1=self.v.split(',') \n",
    "            if len(v1)==2:\n",
    "                a=float(v1[0])\n",
    "                b=float(v1[1])\n",
    "                print(f\"Product of {a} and {b} is {a*b}\")\n",
    "                print(f'Product {a*b} divided by 2 is {(a*b)/2}')\n",
    "            else:\n",
    "                print('You have provided more than 2 Values!')\n",
    "        except ValueError:\n",
    "            print('Values given are not valid!')\n",
    "\n",
    "obj=product_operations()\n",
    "obj.product_operations()\n",
    "    "
   ]
  },
  {
   "cell_type": "markdown",
   "metadata": {},
   "source": [
    ">6.\tcreate a function to add only string element in a list. if other than string display the appropriate message"
   ]
  },
  {
   "cell_type": "code",
   "execution_count": 36,
   "metadata": {},
   "outputs": [
    {
     "name": "stdout",
     "output_type": "stream",
     "text": [
      "Not Alphabetical String: 232e\n",
      "['wer', 'weq']\n"
     ]
    }
   ],
   "source": [
    "class string_addition:\n",
    "    '''A class to accept string user input only'''\n",
    "    def __init__(self):\n",
    "        '''iniatlizing an empty list'''\n",
    "        self.lst=[]\n",
    "    def input_function(self):\n",
    "        '''function to validate float and int inputs only \n",
    "        else prompt error'''\n",
    "        while True:\n",
    "            c=input('Enter your dcchoice(1.Add value,2.exit): ')\n",
    "            if c=='1':\n",
    "                try:\n",
    "                    v=input('Enter the value(WARNING:Only STRING values allowed): ')\n",
    "                    if v.isalpha():\n",
    "                        self.lst.append(v)\n",
    "                    else:\n",
    "                        print(f'Not Alphabetical String: {v}')\n",
    "                except ValueError:\n",
    "                    print(f'Value {v} is not a String!')\n",
    "            elif c=='2':\n",
    "                break\n",
    "            else:\n",
    "                print('Invalid input')\n",
    "        print(self.lst)\n",
    "\n",
    "obj=string_addition()\n",
    "obj.input_function()\n"
   ]
  },
  {
   "cell_type": "markdown",
   "metadata": {},
   "source": [
    ">7.\tCreate a function to read the file and return the dictionary of total lines, total words"
   ]
  },
  {
   "cell_type": "code",
   "execution_count": 4,
   "metadata": {},
   "outputs": [
    {
     "data": {
      "text/plain": [
       "{'total_lines': 8, 'total_words': 153}"
      ]
     },
     "execution_count": 4,
     "metadata": {},
     "output_type": "execute_result"
    }
   ],
   "source": [
    "class read_file:\n",
    "    '''Class to get line and word count in a file'''\n",
    "    def __init__(self):\n",
    "        '''accepting filename from the user'''\n",
    "        self.file_path = input('Enter File path(path\\to\\my\\file or filename): ')\n",
    "        \n",
    "    def file_stats(self):\n",
    "        '''Function to get line ccount and word count of the file'''\n",
    "        try:\n",
    "            with open(self.file_path, 'r') as file:\n",
    "                lines = file.readlines()\n",
    "                total_lines = len(lines)\n",
    "                total_words = sum(len(line.split()) for line in lines)\n",
    "        \n",
    "            return {'total_lines': total_lines, 'total_words': total_words}\n",
    "    \n",
    "        except FileNotFoundError:\n",
    "            return \"File not found. Please check the file path.\"\n",
    "        except Exception as e:\n",
    "            return f\"An error occurred: {e}\"\n",
    "\n",
    "\n",
    "obj=read_file()\n",
    "obj.file_stats()\n"
   ]
  },
  {
   "cell_type": "markdown",
   "metadata": {},
   "source": [
    ">8.\tCreate a function which will accept the dictionary and display key values in separate line"
   ]
  },
  {
   "cell_type": "code",
   "execution_count": null,
   "metadata": {},
   "outputs": [
    {
     "name": "stdout",
     "output_type": "stream",
     "text": [
      "1:a\n",
      "2:b\n",
      "3:c\n"
     ]
    }
   ],
   "source": [
    "class key_value:\n",
    "    '''Print Values in dictionary by key value in separate line'''\n",
    "    def __init__(self):\n",
    "        '''accepting user input and setting up dictionary'''\n",
    "        self.v = input('Values (e.g., key1=val1, key2=val2): ')\n",
    "        self.d1 = dict(x.split('=') for x in self.v.split(','))\n",
    "    \n",
    "    def print_pairs(self):\n",
    "        '''function to print key value in separate lines'''\n",
    "        for key,value in self.d1.items():\n",
    "            print(f'{key}:{value}')\n",
    "            \n",
    "obj=key_value()\n",
    "obj.print_pairs()\n",
    "  \n",
    "        "
   ]
  },
  {
   "cell_type": "markdown",
   "metadata": {},
   "source": [
    ">9.\tCreate a lambda function which will accept the dictionary and display key values in separate line"
   ]
  },
  {
   "cell_type": "code",
   "execution_count": 13,
   "metadata": {},
   "outputs": [
    {
     "name": "stdout",
     "output_type": "stream",
     "text": [
      "1:2\n",
      "2:3\n"
     ]
    },
    {
     "data": {
      "text/plain": [
       "[None, None]"
      ]
     },
     "execution_count": 13,
     "metadata": {},
     "output_type": "execute_result"
    }
   ],
   "source": [
    "v=input('Enter Key value separated by ,: ')\n",
    "d1 = dict(x.split('=') for x in v.split(','))\n",
    "z=lambda x:[print(f'{key}:{value}') for key,value in d1.items()]\n",
    "z(d1)"
   ]
  },
  {
   "cell_type": "markdown",
   "metadata": {},
   "source": [
    ">10.\tCreate a function to validate the password: password should contains at least one small letter, one capital letter, one number, and one special character except comma, quotes"
   ]
  },
  {
   "cell_type": "code",
   "execution_count": null,
   "metadata": {},
   "outputs": [],
   "source": [
    "class PasswordValidation:\n",
    "    '''class to validate password'''\n",
    "    def __init__(self):\n",
    "        '''initializing pattern and user password input'''\n",
    "        self.pat = r'^(?=.*[a-z])(?=.*[A-Z])(?=.*\\d)(?=.*[!\\\"#$%&\\'()*+./:;<=>?@[\\\\\\]^_`{|}~]).{8,}$'\n",
    "        self.password = input('Enter an 8-character Password: ')\n",
    "    \n",
    "    def validate_password(self):\n",
    "        '''function to validate the password'''\n",
    "        try:\n",
    "            if re.match(self.pat, self.password):\n",
    "                return \"Password registered successfully!\"\n",
    "            else:\n",
    "                return \"Not a Valid Pattern\"\n",
    "        except re.error:\n",
    "            return \"Invalid regex pattern\"\n",
    "        except Exception as e:\n",
    "            return f\"An unexpected error occurred: {e}\"\n",
    "\n",
    "\n",
    "obj = PasswordValidation()\n",
    "print(obj.validate_password())\n"
   ]
  },
  {
   "cell_type": "markdown",
   "metadata": {},
   "source": [
    ">11.\tGenerate a decorator having logic to accept natural numbers . which can be used in a function of factorial"
   ]
  },
  {
   "cell_type": "code",
   "execution_count": null,
   "metadata": {},
   "outputs": [
    {
     "name": "stdout",
     "output_type": "stream",
     "text": [
      "ERROR:Only Natural Numbers Allowed!\n"
     ]
    }
   ],
   "source": [
    "class factorial:\n",
    "    '''Class to calculate factorial of natural number'''\n",
    "    def __init__(self):\n",
    "        '''Accepting User Input'''\n",
    "        self.n=int(input('Enter The Number whose factorial is to be calculated(WARNING: only Integer allowed): '))\n",
    "    \n",
    "    '''Initializing Decorator and Wrapper Class'''\n",
    "    def dec(fun):\n",
    "        def wrap(self):\n",
    "            if self.n>0:\n",
    "                return fun(self)\n",
    "            else:\n",
    "                print('ERROR:Only Natural Numbers Allowed!')\n",
    "        return wrap\n",
    "    @dec\n",
    "    def fact(self):\n",
    "        '''function to calculate factorial of natural number'''\n",
    "        res=1\n",
    "        for i in range(1,self.n+1):\n",
    "            res*=i\n",
    "        print('factorial of ',self.n,'is',res)\n",
    "    \n",
    "    \n",
    "obj=factorial()\n",
    "obj.fact()"
   ]
  },
  {
   "cell_type": "markdown",
   "metadata": {},
   "source": [
    ">12.\tGenerate the decorator for a Garden visit to check if current time is between 7am to 7pm.  If true the only call the function else generate the error. \n",
    "\n",
    ">>a.\tFunction payment_check() is active only within given time span and it will check for all user transaction in that given month.\n",
    "\n",
    ">>b.\tFunction entry() will be perform entry transaction of the user\n",
    "\n",
    ">>c.\tFunction exit() will update the outtime of the user if entry exists  \n"
   ]
  },
  {
   "cell_type": "code",
   "execution_count": null,
   "metadata": {},
   "outputs": [
    {
     "name": "stdout",
     "output_type": "stream",
     "text": [
      "Transaction ID: 2, Date: 2025-02-15, Amount: 100.00, Description: Monthly Payment\n",
      "User 123 entry recorded at 2025-02-13 14:42:28.988078.\n",
      "User 123 exited at 2025-02-13 14:42:28.988078.\n"
     ]
    }
   ],
   "source": [
    "'''decorator function for a Garden visit to check \n",
    "if current time is between'''\n",
    "def within_operating_hours(func):\n",
    "    def wrapper(*args, **kwargs):\n",
    "        current_time = datetime.now().time()\n",
    "        start_time = datetime.strptime(\"07:00:00\", \"%H:%M:%S\").time()\n",
    "        end_time = datetime.strptime(\"19:00:00\", \"%H:%M:%S\").time()\n",
    "        \n",
    "        if start_time <= current_time <= end_time:\n",
    "            return func(*args, **kwargs)\n",
    "        else:\n",
    "            raise ValueError(\"ERROR: Function can only be called between 7 AM and 7 PM.\")\n",
    "    \n",
    "    return wrapper\n",
    "\n",
    "'''a class for a Garden visit'''\n",
    "class GardenVisit:\n",
    "    '''initializing user id and established connection'''\n",
    "    def __init__(self):\n",
    "        self.user_id = int(input(\"Enter User ID: \"))\n",
    "        self.conn_str = (\n",
    "            \"Driver={SQL Server};\"\n",
    "            \"Server=LAPTOP-HKILR459;\"  \n",
    "            \"Database=GardenDB;\" \n",
    "            \"Trusted_Connection=yes;\"    \n",
    "        )\n",
    "    \n",
    "    '''checks fro payment is active only within given time span \n",
    "    and all user transaction in that given month.'''\n",
    "    @within_operating_hours\n",
    "    def payment_check(self):\n",
    "        try:\n",
    "            with pyodbc.connect(self.conn_str) as conn:\n",
    "                cursor = conn.cursor()\n",
    "                query = \"\"\"\n",
    "                SELECT * FROM Transactions\n",
    "                WHERE UserID = ? AND MONTH(TransactionDate) = MONTH(GETDATE())\n",
    "                \"\"\"\n",
    "                cursor.execute(query, self.user_id)\n",
    "                transactions = cursor.fetchall()\n",
    "                \n",
    "                if transactions:\n",
    "                    for transaction in transactions:\n",
    "                        print(f\"Transaction ID: {transaction.TransactionID}, \"\n",
    "                              f\"Date: {transaction.TransactionDate}, \"\n",
    "                              f\"Amount: {transaction.Amount}, \"\n",
    "                              f\"Description: {transaction.Description}\")\n",
    "                else:\n",
    "                    print(\"No transactions found for the current month.\")\n",
    "        except pyodbc.Error as e:\n",
    "            print(f\"Database error: {e}\")\n",
    "    \n",
    "    '''function for entry  transactions'''\n",
    "    @within_operating_hours\n",
    "    def entry(self):\n",
    "        self.entry_time = datetime.now()\n",
    "        print(f\"User {self.user_id} entry recorded at {self.entry_time}.\")\n",
    "    \n",
    "    '''updates out time of the user if entry exists'''\n",
    "    @within_operating_hours\n",
    "    def exit(self):\n",
    "        if self.entry_time:\n",
    "            out_time = datetime.now()\n",
    "            print(f\"User {self.user_id} exited at {out_time}.\")\n",
    "            self.entry_time = None\n",
    "        else:\n",
    "            raise ValueError(\"ERROR: Entry transaction does not exist.\")\n",
    "\n",
    "visit = GardenVisit()\n",
    "\n",
    "try:\n",
    "    visit.payment_check()\n",
    "    visit.entry()\n",
    "    visit.exit()\n",
    "except ValueError as e:\n",
    "    print(e)\n",
    "except pyodbc.Error as e:\n",
    "    print(f\"Database error: {e}\")\n"
   ]
  },
  {
   "cell_type": "markdown",
   "metadata": {},
   "source": [
    ">13.\tCreate lambda function for sorting of the string"
   ]
  },
  {
   "cell_type": "code",
   "execution_count": 2,
   "metadata": {},
   "outputs": [
    {
     "name": "stdout",
     "output_type": "stream",
     "text": [
      "before sorting: amal A\n",
      "after sorting:  Aaalm\n"
     ]
    }
   ],
   "source": [
    "inp=input(\"Enter a String: \")\n",
    "sort_string = lambda s: ''.join(sorted(s))\n",
    "print(f'before sorting: {inp}')\n",
    "print(f'after sorting: {sort_string(inp)}')"
   ]
  },
  {
   "cell_type": "markdown",
   "metadata": {},
   "source": [
    ">14. Create a generator which will generate runtime unique value as  ABC0001, ABC0002, ABC0003… "
   ]
  },
  {
   "cell_type": "code",
   "execution_count": 2,
   "metadata": {},
   "outputs": [
    {
     "name": "stdout",
     "output_type": "stream",
     "text": [
      "ABC0000\n",
      "ABC0001\n",
      "ABC0002\n",
      "ABC0003\n",
      "ABC0004\n"
     ]
    }
   ],
   "source": [
    "'''genrator class for creating unique values'''\n",
    "class Generator:\n",
    "    '''function for creating unique values'''\n",
    "    def generate_unique_id():\n",
    "        count = 0\n",
    "        while True:\n",
    "            yield f'ABC{count:04d}'\n",
    "            count += 1\n",
    "        \n",
    "    '''using generator'''    \n",
    "    generator = generate_unique_id()\n",
    "    for _ in range(5):\n",
    "        print(next(generator))"
   ]
  },
  {
   "cell_type": "markdown",
   "metadata": {},
   "source": [
    ">15. Create a decorator to check if all input values are alpha numeric and based on it check PAN detail  AAAAA1111X , rec.no   first 3 chr next 5 number "
   ]
  },
  {
   "cell_type": "code",
   "execution_count": 15,
   "metadata": {},
   "outputs": [
    {
     "name": "stdout",
     "output_type": "stream",
     "text": [
      "MESSAGE:\n",
      "Valid PAN Number!\n",
      " \n",
      "PAN Number:\n",
      "AAAAA1111F\n"
     ]
    }
   ],
   "source": [
    "class check_pan:\n",
    "    '''class to check if all input values are \n",
    "       alpha numeric and based on it validate PAN number'''\n",
    "    def __init__(self):\n",
    "        '''initializing pattern and  user input'''\n",
    "        self.pan=input('Enter PAN number:').strip()\n",
    "        self.pattern = r\"^[A-Z]{5}[0-9]{4}[A-Z]$\"\n",
    "\n",
    "    \n",
    "    def validate_alphanumeric(func):\n",
    "        '''decorator function to check if all input values \n",
    "            are alpha numeric'''\n",
    "        def wrapper(self):\n",
    "            if self.pan.isalnum():\n",
    "                return func(self)\n",
    "            else:\n",
    "                raise ValueError(\"ERROR: PAN must be alpha numeric!\")\n",
    "        \n",
    "        return wrapper\n",
    "    \n",
    "    \n",
    "    @validate_alphanumeric\n",
    "    def check_pan_detail(self):\n",
    "        '''class to check PAN details'''\n",
    "        if re.match(self.pattern,self.pan):\n",
    "            print(f\"MESSAGE:\\nValid PAN Number!\\n \\nPAN Number:\\n{self.pan}\")\n",
    "        else:\n",
    "            raise ValueError(\"ERROR: Invalid PAN format!\")\n",
    "        \n",
    "try:   \n",
    "    pan_check = check_pan()\n",
    "    pan_check.check_pan_detail()\n",
    "except ValueError as e:\n",
    "    print(e)   \n",
    "        "
   ]
  },
  {
   "cell_type": "markdown",
   "metadata": {},
   "source": [
    ">17.\tAsk user to enter any 3 input e.g name, marks , mobile_num\n",
    "if name is with other special characters then it should not not ask for next makrs input\n",
    "\n",
    "   \tnote:\n",
    "\t \n",
    "-\tCreate separate functions for validation of every variable \n",
    "-\tEvery single block should have proper exception\n",
    "-\tEvery function must have the docstring\n",
    "-\tOnce the validation is done dictionary has to be created and store the dictionary to one txt file\n"
   ]
  },
  {
   "cell_type": "code",
   "execution_count": 4,
   "metadata": {},
   "outputs": [
    {
     "name": "stdout",
     "output_type": "stream",
     "text": [
      "First Name is amal\n",
      "Marks are 120\n",
      "MESSAGE: Invalid Input Format!\n",
      "Retrying input...\n",
      "First Name is amal\n",
      "Marks are 120\n",
      "MESSAGE: Invalid Input Format!\n",
      "Retrying input...\n",
      "First Name is amal\n",
      "Marks are 120\n",
      "Mobile Number is 0987654321\n",
      "Data Saved: Name: amal, Marks: 120, Mobile: 0987654321\n"
     ]
    }
   ],
   "source": [
    "logging.basicConfig(filename='All_Validation.log', level=logging.DEBUG, \n",
    "                    format='%(asctime)s %(levelname)s %(message)s')\n",
    "\n",
    "class AllValidation:\n",
    "    def __init__(self):\n",
    "        '''Initializing data variables'''\n",
    "        self.name = None\n",
    "        self.marks = None\n",
    "        self.mobile_num = None\n",
    "\n",
    "    def validate_user(pattern):\n",
    "        '''Decorator function to validate user input'''\n",
    "        def decorator(func):\n",
    "            def wrapper(self, value):\n",
    "                try:\n",
    "                    if re.match(pattern, value):\n",
    "                        return func(self, value)\n",
    "                    else:\n",
    "                        logging.error(f\"Validation Failed: {value} does not match {pattern}\")\n",
    "                        raise ValueError(\"Invalid Input Format!\")\n",
    "                except ValueError as e:\n",
    "                    print(f'MESSAGE: {e}')\n",
    "                    logging.error(str(e))\n",
    "                    raise\n",
    "                except Exception as e:\n",
    "                    logging.error(f\"Unexpected validation error: {e}\")\n",
    "                    raise\n",
    "            return wrapper\n",
    "        return decorator\n",
    "\n",
    "    @validate_user(\"^[A-Za-z]+$\")\n",
    "    def name_validate(self, name):\n",
    "        logging.info(\"User Validation - Name\")\n",
    "        logging.info(\"First Name Validation Successful!\")\n",
    "        print(f\"First Name is {name}\")\n",
    "        self.name = name  \n",
    "\n",
    "    @validate_user(\"^[0-9]+$\")\n",
    "    def marks_validate(self, marks):\n",
    "        logging.info(\"User Validation - Marks\")\n",
    "        logging.info(\"Marks Validation Successful!\")\n",
    "        print(f\"Marks are {marks}\")\n",
    "        self.marks = marks  \n",
    "\n",
    "    @validate_user(\"^[0-9]{10}$\")\n",
    "    def mobile_num_validate(self, mobile_num):\n",
    "        logging.info(\"User Validation - Mobile Number\")\n",
    "        logging.info(\"Mobile Number Validation Successful!\")\n",
    "        print(f\"Mobile Number is {mobile_num}\")\n",
    "        self.mobile_num = mobile_num \n",
    "\n",
    "    def store_to_file(self):\n",
    "        '''Store validated data to file'''\n",
    "        with open('data.txt', 'a') as file:\n",
    "            file.write(f'{self.name},{self.marks},{self.mobile_num}\\n')\n",
    "        logging.info(\"Data stored successfully in file.\")\n",
    "\n",
    "    def run_validation(self):\n",
    "        '''Sequential validation process'''\n",
    "        while True:\n",
    "            try:\n",
    "                name = input(\"Enter name: \").strip()\n",
    "                self.name_validate(name) \n",
    "                \n",
    "                marks = input(\"Enter marks: \").strip()\n",
    "                self.marks_validate(marks)  \n",
    "                mobile_num = input(\"Enter mobile number: \").strip()\n",
    "                self.mobile_num_validate(mobile_num)  \n",
    "                \n",
    "                self.store_to_file() \n",
    "                \n",
    "                print(f\"Data Saved: Name: {self.name}, Marks: {self.marks}, Mobile: {self.mobile_num}\")\n",
    "                break  \n",
    "            except ValueError:\n",
    "                print(\"Retrying input...\")  \n",
    "            except Exception as e:\n",
    "                print(f\"Unexpected error: {e}\")\n",
    "                break  \n",
    "\n",
    "\n",
    "obj = AllValidation()\n",
    "obj.run_validation()\n"
   ]
  },
  {
   "cell_type": "markdown",
   "metadata": {},
   "source": [
    ">18. Segregate file in small , medium and large size in different folder\n",
    "\n",
    "-\tfilesize less than and equal to 10KB is small file\n",
    "-\tfilesize more than 10 KB is the medium file\n",
    "-\tfilesize more than 40 kb is the large file\n",
    "-\tcreate the log file \n"
   ]
  },
  {
   "cell_type": "code",
   "execution_count": null,
   "metadata": {},
   "outputs": [],
   "source": [
    "logging.basicConfig(filename='file_sorting.log', level=logging.DEBUG, \n",
    "                    format='%(asctime)s %(levelname)s %(message)s')\n",
    "\n",
    "class FileSorter:\n",
    "    def __init__(self, source_dir):\n",
    "        '''Initializes the FileSorter with the source directory.'''\n",
    "        self.src = source_dir\n",
    "        self.sdir = os.path.join(self.src, 'small')\n",
    "        self.mdir = os.path.join(self.src, 'medium')\n",
    "        self.ldir = os.path.join(self.src, 'large')\n",
    "        self.setup_directories()\n",
    "\n",
    "    def setup_directories(self):\n",
    "        '''Creates the necessary target directories if they don't exist.'''\n",
    "        os.makedirs(self.sdir, exist_ok=True)\n",
    "        os.makedirs(self.mdir, exist_ok=True)\n",
    "        os.makedirs(self.ldir, exist_ok=True)\n",
    "\n",
    "    def sort_files(self):\n",
    "        '''Sorts files in the source directory into small, medium, and large folders.'''\n",
    "        for filename in os.listdir(self.src):\n",
    "            file_path = os.path.join(self.src, filename)\n",
    "            try:\n",
    "                if os.path.isfile(file_path):\n",
    "                    self.move_file_based_on_size(file_path)\n",
    "            except FileNotFoundError:\n",
    "                logging.error(f\"File not found: {file_path}\")\n",
    "                print(f\"File not found: {file_path}\")\n",
    "            except PermissionError:\n",
    "                logging.error(f\"Permission denied: {file_path}\")\n",
    "                print(f\"Permission denied: {file_path}\")\n",
    "            except Exception as e:\n",
    "                logging.error(f\"Error processing file {file_path}: {e}\")\n",
    "                print(f\"Error processing file {file_path}: {e}\")\n",
    "\n",
    "    def move_file_based_on_size(self, file_path):\n",
    "        '''Moves the file to the appropriate directory based on its size.'''\n",
    "        try:\n",
    "            file_size_kb = os.stat(file_path).st_size / 1024  \n",
    "            if file_size_kb <= 10:\n",
    "                shutil.move(file_path, self.sdir)\n",
    "                logging.info(f\"Moved {file_path} to {self.sdir}\")\n",
    "            elif 10 < file_size_kb <= 40:\n",
    "                shutil.move(file_path, self.mdir)\n",
    "                logging.info(f\"Moved {file_path} to {self.mdir}\")\n",
    "            else:\n",
    "                shutil.move(file_path, self.ldir)\n",
    "                logging.info(f\"Moved {file_path} to {self.ldir}\")\n",
    "        except Exception as e:\n",
    "            logging.error(f\"Error moving file {file_path}: {e}\")\n",
    "            raise\n",
    "\n",
    "\n",
    "source_directory = r'E:\\\\Python\\\\Bizmetric python\\\\'\n",
    "file_sorter = FileSorter(source_directory)\n",
    "file_sorter.sort_files()\n"
   ]
  },
  {
   "attachments": {
    "image.png": {
     "image/png": "[encoded data removed]"
    }
   },
   "cell_type": "markdown",
   "metadata": {},
   "source": [
    ">19. In the hotel user is entering the details of menu, quantity and printing the bill. number of menu may varies with customer's order \n",
    "\tgenerate a file having grocery bill as per the below format\n",
    "    \n",
    " ![image.png](attachment:image.png)\n",
    "\n",
    "\tNote: User may enter n entities and total will be calculated adding the GST of 10% separately\n",
    "\n",
    "- apply exception wherever it is required. \n",
    "- create the log file and check if code is arranged in a proper format using flake8, pylint, etc.\n"
   ]
  },
  {
   "cell_type": "code",
   "execution_count": 9,
   "metadata": {},
   "outputs": [
    {
     "name": "stdout",
     "output_type": "stream",
     "text": [
      "=======================================================\n",
      "                         Bill                          \n",
      "=======================================================\n",
      "                      ABC HOTELS                       \n",
      "                Tilak Road Pune,411038                 \n",
      "=======================================================\n",
      "                                 phono: 1234567890\n",
      "                                     Date:02/14/25\n",
      "                                  Time:10:04:44 AM\n",
      "-------------------------------------------------------\n",
      "       Item        Qty      Price     Total Price\n",
      "-------------------------------------------------------\n",
      "       IDLI          2         50        100\n",
      "-------------------------------------------------------\n",
      "                   Final Amount: 100                   \n",
      "                        GST: 10%                       \n",
      "               Total Final Amount: 110.0               \n",
      "=======================================================\n",
      "                 Here's your QR Code:                  \n",
      "                      ┌────────┐                       \n",
      "                      │ █▀█ █▀ │                       \n",
      "                      │ █▄█ ▄█ │                       \n",
      "                      └────────┘                       \n",
      "                 Thankyou for Coming!                  \n",
      "=======================================================\n"
     ]
    }
   ],
   "source": [
    "from datetime import datetime\n",
    "from datetime import date\n",
    "from datetime import time\n",
    "\n",
    "print(\"{:=^55}\".format(\"\"))\n",
    "print(\"{:^55}\".format(\"Bill\"))\n",
    "print(\"{:=^55}\".format(\"\"))\n",
    "print(\"{:^55}\".format(f\"ABC HOTELS\"))\n",
    "print(\"{:^55}\".format(\"Tilak Road Pune,411038\"))\n",
    "print(\"{:=^55}\".format(\"\"))\n",
    "print(\"{:>50}\".format(\"phono: 1234567890\"))\n",
    "was=datetime.now()\n",
    "stm=was.strftime(\"%D\")\n",
    "print(\"{:>50}\".format(f\"Date:{stm}\"))\n",
    "wat=was.time()\n",
    "w=wat.strftime('%H:%M:%S %p')\n",
    "print(\"{:>50}\".format(f\"Time:{w}\"))\n",
    "print(\"{:-^55}\".format(\"\"))\n",
    "print(\" {:>10} {:>10} {:>10} {:>15}\".format(\"Item\",\"Qty\",\"Price\",\"Total Price\"))\n",
    "print(\"{:-^55}\".format(\"\"))\n",
    "sum =0 \n",
    "\n",
    "while True:\n",
    "    choice=int(input(\"Enter Your Choice in no. from [1.Add Item, 2.Print Reciept]\"))\n",
    "    if choice==1:\n",
    "        Item=input(\"Enter the Item Name: \")\n",
    "        Qty=int(input(\"Enter the Quantity of Item: \"))\n",
    "        Price=int(input(\"Enter the Price of the Item: \"))\n",
    "        Total_Price=Qty*Price\n",
    "        sum += Total_Price\n",
    "        print(\" {:>10} {:>10} {:>10} {:>10}\".format(Item,Qty,Price,Total_Price))\n",
    "    if choice==2:\n",
    "        print(\"{:-^55}\".format(\"\"))\n",
    "        print(\"{:^55}\".format(f\" Final Amount: {sum}\"))\n",
    "        print(\"{:^55}\".format(f\" GST: 10%\"))\n",
    "        val=sum+(sum*0.10)\n",
    "        print(\"{:^55}\".format(f\" Total Final Amount: {val}\"))\n",
    "        print(\"{:=^55}\".format(\"\"))\n",
    "        \n",
    "\n",
    "        print(\"{:^55}\".format(\"Here's your QR Code:\"))\n",
    "        print(\"{:^55}\".format(\"┌────────┐\"))        \n",
    "        print(\"{:^55}\".format(\"│ █▀█ █▀ │\"))\n",
    "        print(\"{:^55}\".format(\"│ █▄█ ▄█ │\"))\n",
    "        print(\"{:^55}\".format(\"└────────┘\"))\n",
    "\n",
    "        print(\"{:^55}\".format(\"Thankyou for Coming!\"))\n",
    "        print(\"{:=^55}\".format(\"\"))\n",
    "\n",
    "        break"
   ]
  },
  {
   "cell_type": "markdown",
   "metadata": {},
   "source": [
    ">20.\tAsk user to enter the valid file path and check which word is having more repetition in the file"
   ]
  },
  {
   "cell_type": "code",
   "execution_count": 14,
   "metadata": {},
   "outputs": [
    {
     "name": "stdout",
     "output_type": "stream",
     "text": [
      "The word(s) with the most repetition in the file 'Text.txt': zygarde\n"
     ]
    }
   ],
   "source": [
    "class WordCount:\n",
    "    '''Class for counting words in a file that has max repetitions'''\n",
    "    def __init__(self):\n",
    "        '''user input method for getting the file path'''\n",
    "        self.fpath = input(\"Enter a valid file path:\")\n",
    "        \n",
    "    def count_words(self):\n",
    "        '''function to count words'''\n",
    "        with open(self.fpath, 'r') as f:\n",
    "            self.words = f.read().lower().split()\n",
    "            self.word_counts = {}\n",
    "            for word in self.words:\n",
    "                if word.isalpha():\n",
    "                    if word in self.word_counts:\n",
    "                        self.word_counts[word] += 1\n",
    "                    else:\n",
    "                        self.word_counts[word] = 1\n",
    "\n",
    "obj = WordCount()\n",
    "obj.count_words()\n",
    "\n",
    "\n",
    "max_count = max(obj.word_counts.values())\n",
    "most_repeated_words = [word for word, count in obj.word_counts.items() if count == max_count]\n",
    "print(f\"The word(s) with the most repetition in the file '{obj.fpath}': {', '.join(most_repeated_words)}\")\n"
   ]
  },
  {
   "cell_type": "markdown",
   "metadata": {},
   "source": [
    ">21. Create a function which will accept the word and the file path and returns the dictionary as {word: occurances}"
   ]
  },
  {
   "cell_type": "code",
   "execution_count": null,
   "metadata": {},
   "outputs": [
    {
     "data": {
      "text/plain": [
       "{'zygarde': 12}"
      ]
     },
     "execution_count": 19,
     "metadata": {},
     "output_type": "execute_result"
    }
   ],
   "source": [
    "class WordCount:\n",
    "    '''Class for counting user given word in a file '''\n",
    "    def __init__(self):\n",
    "        '''user input method for getting the file path and word'''\n",
    "        self.fpath = input(\"Enter a valid file path:\")\n",
    "        self.word=  input(\"Enter the Word to find the count: \")\n",
    "        \n",
    "    def count_words(self):\n",
    "        '''function to count the word occurrences'''\n",
    "        word_count = {self.word: 0}\n",
    "\n",
    "        try:\n",
    "            with open(self.fpath, 'r') as file:\n",
    "                for line in file:\n",
    "                    words = line.lower().split()\n",
    "                    word_count[self.word] += words.count(self.word)\n",
    "\n",
    "            return word_count\n",
    "        except FileNotFoundError:\n",
    "            print(f\"Error: The file '{self.fpath}' was not found.\")\n",
    "            return {}\n",
    "        except Exception as e:\n",
    "            print(f\"An unexpected error occurred: {e}\")\n",
    "            return {}\n",
    "\n",
    "obj = WordCount()\n",
    "obj.count_words()\n",
    "obj.count_words()\n"
   ]
  },
  {
   "cell_type": "markdown",
   "metadata": {},
   "source": [
    ">22. Create a function which will accept one file and returns all occurrences of the word\n",
    "{‘market’ : 3, ‘is’:5, ‘new’:2}\n"
   ]
  },
  {
   "cell_type": "code",
   "execution_count": null,
   "metadata": {},
   "outputs": [
    {
     "name": "stdout",
     "output_type": "stream",
     "text": [
      "{'zygarde': 12, 'is': 8, 'a': 3, 'type': 1, 'pokémon': 2, 'introduced': 1, 'in': 3, 'generation': 1, 'legendary': 1, 'its': 1, 'ability': 1, 'aura': 1, 'break': 1, 'counters': 1, 'the': 9, 'effects': 1, 'of': 6, 'abilities': 1, 'xerneas': 2, 'and': 3, 'it': 2, 'was': 1, 'later': 1, 'revealed': 1, 'that': 2, 'as': 3, 'seen': 1, 'x': 1, 'y': 1, 'fact': 1, 'an': 1, 'alternate': 1, 'has': 2, 'three': 1, 'usable': 1, 'well': 1, 'two': 1, 'cell': 1, 'are': 2, 'single': 1, 'cells': 3, 'make': 1, 'up': 1, 'they': 2, 'cannot': 1, 'use': 1, 'any': 1, 'core': 3, 'part': 1, 'known': 1, 'to': 1, 'take': 1, 'action': 1, 'when': 4, 'ecosystem': 2, 'forme': 3, 'occurs': 2, 'gathers': 2, 'appearance': 1, 'this': 2, 'standard': 1, 'complete': 1, 'perfect': 1, 'which': 1, 'more': 1, 'powerful': 1, 'than': 1, 'takes': 1, 'form': 1, 'under': 1}\n"
     ]
    }
   ],
   "source": [
    "class WordCount:\n",
    "    '''Class to get the count of words in dictionary'''\n",
    "    def __init__(self):\n",
    "        '''user input method for getting the file path'''\n",
    "        self.fpath = input(\"Enter a valid file path:\")\n",
    "        \n",
    "    def count_words(self):\n",
    "        '''function to count words'''\n",
    "        with open(self.fpath, 'r') as f:\n",
    "            self.words = f.read().lower().split()\n",
    "            self.word_counts = {}\n",
    "            for word in self.words:\n",
    "                if word.isalpha():\n",
    "                    if word in self.word_counts:\n",
    "                        self.word_counts[word] += 1\n",
    "                    else:\n",
    "                        self.word_counts[word] = 1\n",
    "\n",
    "obj = WordCount()\n",
    "obj.count_words()\n",
    "print(obj.word_counts)"
   ]
  },
  {
   "cell_type": "markdown",
   "metadata": {},
   "source": [
    ">23.Based on logic mentioned in question number 8 create the class"
   ]
  },
  {
   "cell_type": "code",
   "execution_count": 23,
   "metadata": {},
   "outputs": [
    {
     "name": "stdout",
     "output_type": "stream",
     "text": [
      "a:1\n",
      "b:2\n"
     ]
    }
   ],
   "source": [
    "class key_value:\n",
    "    '''Print Values in dictionary by key value in separate line'''\n",
    "    def __init__(self):\n",
    "        '''accepting user input and setting up dictionary'''\n",
    "        self.v = input('Values (e.g., key1=val1, key2=val2): ')\n",
    "        self.d1 = dict(x.split('=') for x in self.v.split(','))\n",
    "    \n",
    "    def print_pairs(self):\n",
    "        '''function to print key value in separate lines'''\n",
    "        for key,value in self.d1.items():\n",
    "            print(f'{key}:{value}')\n",
    "            \n",
    "obj=key_value()\n",
    "obj.print_pairs()\n",
    "  \n",
    "        "
   ]
  },
  {
   "cell_type": "markdown",
   "metadata": {},
   "source": [
    ">24. Ask user to enter the folder path. Folder may contain more than one file and with different extensions. Read only text file and return the more repetitive word"
   ]
  },
  {
   "cell_type": "code",
   "execution_count": null,
   "metadata": {},
   "outputs": [
    {
     "name": "stdout",
     "output_type": "stream",
     "text": [
      "The word(s) with the most repetition in the file 'Text.txt': zygarde\n"
     ]
    }
   ],
   "source": [
    "class WordCount:\n",
    "    '''Class to read only .txt files'''\n",
    "    def __init__(self):\n",
    "        '''user input method for getting the file path'''\n",
    "        self.fpath = input(\"Enter a valid file path:\")\n",
    "        self.word_counts = {}\n",
    "        \n",
    "    def count_words(self):\n",
    "        '''function to check file extension and find the word count'''\n",
    "        try:\n",
    "            if '.txt' in self.fpath:\n",
    "                with open(self.fpath, 'r') as f:\n",
    "                    self.words = f.read().lower().split()\n",
    "                    for word in self.words:\n",
    "                        if word.isalpha():\n",
    "                            if word in self.word_counts:\n",
    "                                self.word_counts[word] += 1\n",
    "                            else:\n",
    "                                self.word_counts[word] = 1\n",
    "            else:\n",
    "                raise Exception('Wrong file format!')\n",
    "        except FileNotFoundError:\n",
    "            print(f\"Error: The file '{self.fpath}' was not found.\")\n",
    "        except Exception as e:\n",
    "            print(f\"An unexpected error occurred: {e}\")\n",
    "    \n",
    "    def find_most_repeated_words(self):\n",
    "        '''Finds and prints the most repeated words'''\n",
    "        if not self.word_counts:  \n",
    "            print(\"No words counted.\")\n",
    "            return\n",
    "\n",
    "        max_count = max(self.word_counts.values())  \n",
    "        most_repeated_words = [word for word, count in self.word_counts.items() if count == max_count]\n",
    "\n",
    "        print(f\"The word(s) with the most repetition in the file '{self.fpath}': {', '.join(most_repeated_words)}\")\n",
    "\n",
    "\n",
    "\n",
    "obj = WordCount()\n",
    "obj.count_words()\n",
    "obj.find_most_repeated_words()\n"
   ]
  },
  {
   "cell_type": "markdown",
   "metadata": {},
   "source": [
    ">25. Create a class for file reading"
   ]
  },
  {
   "cell_type": "code",
   "execution_count": 34,
   "metadata": {},
   "outputs": [
    {
     "data": {
      "text/plain": [
       "\"Zygarde is a Dragon/Ground type Pokémon introduced in Generation 6.\\nZygarde is a snake-like legendary Pokémon. Its ability Aura Break counters the effects of the abilities of Xerneas and Yveltal.\\nIt was later revealed that Zygarde as seen in Pokémon X & Y is in fact an alternate Forme. Zygarde has three usable Formes, as well as two components:\\nZygarde Cell are single cells that make up Zygarde. They cannot use any moves.\\nZygarde Core is part of Zygarde's brain, and they are known to take action when the ecosystem changes.\\nZygarde 10% Forme occurs when Zygarde Core gathers 10% of the Cells nearby. It has the appearance of a dog.\\nZygarde 50% Forme occurs when Zygarde Core gathers 50% of the Cells nearby. This is the standard form.\\nZygarde Complete Forme is the perfect form, which is more powerful than Xerneas and Yveltal. Zygarde takes this form when the ecosystem is under\""
      ]
     },
     "execution_count": 34,
     "metadata": {},
     "output_type": "execute_result"
    }
   ],
   "source": [
    "class FileReader:\n",
    "    def __init__(self):\n",
    "        self.file_path = input(\"Enter file path: \")\n",
    "\n",
    "    def read_file(self):\n",
    "        try:\n",
    "            with open(self.file_path, 'r') as file:\n",
    "                return file.read()\n",
    "        except FileNotFoundError:\n",
    "            print(f\"Error: The file '{self.file_path}' was not found.\")\n",
    "            return None\n",
    "        except Exception as e:\n",
    "            print(f\"An unexpected error occurred: {e}\")\n",
    "            return None\n",
    "\n",
    "obj=FileReader()\n",
    "obj.read_file()"
   ]
  },
  {
   "cell_type": "markdown",
   "metadata": {},
   "source": [
    ">26. Create a function which will accept the dictionary. Dictionary may have values any date type format. If values are in integer or float then return respective key"
   ]
  },
  {
   "cell_type": "code",
   "execution_count": 44,
   "metadata": {},
   "outputs": [
    {
     "name": "stdout",
     "output_type": "stream",
     "text": [
      "Dictionary: {'a': 1, 'e': 'r'}\n",
      "Value is int or float for key: a\n"
     ]
    }
   ],
   "source": [
    "def find_key(**kwargs):\n",
    "    for key, value in kwargs.items():\n",
    "        if isinstance(value, (int, float)):  # Check if value is int or float\n",
    "            print('Dictionary:',kwargs)\n",
    "            return f'Value is int or float for key: {key}'\n",
    "    return None\n",
    "\n",
    "inp = input(\"Enter dictionary values (as key=value format): \")\n",
    "v1 = dict([i.split('=') for i in inp.split(',')])\n",
    "\n",
    "\n",
    "for key, value in v1.items():\n",
    "    try:\n",
    "        v1[key] = int(value)\n",
    "    except ValueError:\n",
    "        try:\n",
    "            v1[key] = float(value)\n",
    "        except ValueError:\n",
    "            pass\n",
    "\n",
    "print(find_key(**v1))\n"
   ]
  },
  {
   "cell_type": "markdown",
   "metadata": {},
   "source": [
    ">27. Create one decorator having exception logic inside it and create another function which will refer to the decorator in case of errors\n",
    "e.g  val_name is the function validating name but customized error should be thrown from decorator\n"
   ]
  },
  {
   "cell_type": "code",
   "execution_count": 48,
   "metadata": {},
   "outputs": [
    {
     "name": "stdout",
     "output_type": "stream",
     "text": [
      "First Name is Aamal\n"
     ]
    }
   ],
   "source": [
    "logging.basicConfig(filename='ErrorHandling.log', level=logging.DEBUG,\n",
    "                    format='%(asctime)s %(levelname)s %(message)s')\n",
    "\n",
    "class myError(Exception):\n",
    "    '''Custom exception for validation errors'''\n",
    "\n",
    "class AllValidation:\n",
    "    def __init__(self):\n",
    "        '''Initializing data variables'''\n",
    "        self.name = input(\"Enter name: \")\n",
    "        \n",
    "    @staticmethod\n",
    "    def validate_user(pattern):\n",
    "        '''Decorator function to validate user input'''\n",
    "        def decorator(func):\n",
    "            def wrapper(self, value):\n",
    "                try:\n",
    "                    if re.match(pattern, value):\n",
    "                        return func(self, value)\n",
    "                    else:\n",
    "                        logging.error(f\"Validation Failed: {value} does not match {pattern}\")\n",
    "                        raise myError(\"Invalid Input Format!\")\n",
    "                except myError as e:\n",
    "                    logging.error(f\"Unexpected validation error: {e}\")\n",
    "                    raise\n",
    "            return wrapper\n",
    "        return decorator\n",
    "\n",
    "    @validate_user(\"^[A-Za-z]+$\")\n",
    "    def name_validate(self, name):\n",
    "        logging.info(\"User Validation\")\n",
    "        logging.info(\"First Name Validation Successful!\")\n",
    "        print(f\"First Name is {name}\")\n",
    "\n",
    "obj = AllValidation()\n",
    "obj.name_validate(obj.name)\n"
   ]
  },
  {
   "cell_type": "markdown",
   "metadata": {},
   "source": [
    ">28. Create a class User.  User will be instantiated based on key available in the dictionary. If dictionary is not having the key then generate error. If dictionary is having the key then display values against the same."
   ]
  },
  {
   "cell_type": "code",
   "execution_count": 58,
   "metadata": {},
   "outputs": [
    {
     "name": "stdout",
     "output_type": "stream",
     "text": [
      "You have entered the details for {'a': '1', 'b': '2'}.\n",
      "User Information: 2\n"
     ]
    }
   ],
   "source": [
    "class User:\n",
    "    def display_user(self, key):\n",
    "        '''Display user information if the key exists'''\n",
    "        if key in self.user_dict:\n",
    "            print(f\"User Information: {self.user_dict[key]}\")\n",
    "        else:\n",
    "            raise KeyError(f\"Key '{key}' not found in the dictionary.\")\n",
    "    \n",
    "    def choose_user(self):\n",
    "        '''Allow the user to choose between different users'''\n",
    "        self.user_dict ={}\n",
    "        while True:\n",
    "            v = int(input(\"Which user are you (1.User A or 2.User B or 3.Exit): \"))\n",
    "            if v == 1:\n",
    "                inp = input(\"Enter User details (key=value format, comma-separated): \")\n",
    "                try:\n",
    "                    \n",
    "                    user_dict = dict([i.split('=') for i in inp.split(',') if '=' in i and len(i.split('=')) == 2])\n",
    "                    if not user_dict:\n",
    "                        raise ValueError(\"Invalid input format. Ensure each entry is in 'key=value' format.\")\n",
    "                    self.user_dict = user_dict\n",
    "                    print(f\"You have entered the details for {self.user_dict}.\")\n",
    "                except ValueError as e:\n",
    "                    print(f\"Error: {e}\")\n",
    "                    continue  \n",
    "            elif v == 2:\n",
    "                key = input(\"Enter the key (e.g., User A, User B) to display value: \")\n",
    "                self.display_user(key) \n",
    "            elif v == 3:\n",
    "                break\n",
    "            else:\n",
    "                print(\"Invalid choice! Please choose 1 or 2.\")\n",
    "                break\n",
    "\n",
    "\n",
    "obj = User()\n",
    "obj.choose_user()\n"
   ]
  },
  {
   "cell_type": "markdown",
   "metadata": {},
   "source": [
    ">29. Create a class pharma. One user A will enter the medicine name and price.  Another user B will generate the bill based on entry done by the first user"
   ]
  },
  {
   "cell_type": "code",
   "execution_count": 61,
   "metadata": {},
   "outputs": [
    {
     "name": "stdout",
     "output_type": "stream",
     "text": [
      "Bill:\n",
      "abc: 100.0\n",
      "Total Amount: 1000.0\n"
     ]
    }
   ],
   "source": [
    "class pharma:\n",
    "    def __init__(self):\n",
    "        self.medicine_dict = {}\n",
    "    \n",
    "    def add_medicine(self):\n",
    "        '''Add medicine and price to the dictionary'''\n",
    "        self.medicine_name = input(\"Enter medicine name: \")\n",
    "        self.medicine_price = float(input(\"Enter medicine price: \"))\n",
    "        self.medicine_dict[self.medicine_name] = self.medicine_price\n",
    "    \n",
    "    def generate_bill(self):\n",
    "        \n",
    "        '''Generate bill for the medicines entered by the first user'''\n",
    "        self.total_amount = 0\n",
    "        while True:\n",
    "            medicine_name = input(\"Enter medicine name (or 'done' to finish): \")\n",
    "            if medicine_name.lower() == 'done':\n",
    "                break\n",
    "            if medicine_name in self.medicine_dict:\n",
    "                medicine_price = self.medicine_dict[medicine_name]\n",
    "                quantity = int(input(f\"Enter quantity of {medicine_name}: \"))\n",
    "                self.total_amount += medicine_price * quantity\n",
    "            else:\n",
    "                print(f\"Error: Medicine '{medicine_name}' not found.\")\n",
    "                \n",
    "    def display_bill(self):\n",
    "        '''Display the bill'''\n",
    "        print(\"Bill:\")\n",
    "        for medicine_name, medicine_price in self.medicine_dict.items():\n",
    "            print(f\"{medicine_name}: {medicine_price}\")\n",
    "        print(f\"Total Amount: {self.total_amount}\")\n",
    "        \n",
    "    \n",
    "    def choose_user(self):\n",
    "        '''Allow the user to choose between different users'''\n",
    "        while True:\n",
    "            v = int(input(\"Which user are you (1.User A or 2.User B or 3.Exit): \"))\n",
    "            if v == 1:\n",
    "                self.add_medicine()\n",
    "            elif v == 2:\n",
    "                self.generate_bill()\n",
    "                self.display_bill()\n",
    "            elif v == 3:\n",
    "                break\n",
    "            else:\n",
    "                print(\"Invalid choice! Please choose 1 or 2.\")\n",
    "                break\n",
    "            \n",
    "    \n",
    "obj = pharma()\n",
    "obj.choose_user()"
   ]
  },
  {
   "cell_type": "markdown",
   "metadata": {},
   "source": [
    ">30. Read the file if the file contains number, then return the dictionary based on position and values of the number."
   ]
  },
  {
   "cell_type": "code",
   "execution_count": 71,
   "metadata": {},
   "outputs": [
    {
     "name": "stdout",
     "output_type": "stream",
     "text": [
      "No valid numbers found in the file.\n"
     ]
    }
   ],
   "source": [
    "class Dictionary:\n",
    "    def __init__(self):\n",
    "        '''Initialize with file path'''\n",
    "        self.file_path = input(\"Enter file path: \")\n",
    "    \n",
    "    def read_file(self):\n",
    "        '''Read the file and return lines'''\n",
    "        try:\n",
    "            with open(self.file_path, 'r') as file:\n",
    "                return [line.strip() for line in file]\n",
    "        except FileNotFoundError:\n",
    "            print(f\"Error: The file '{self.file_path}' was not found.\")\n",
    "            return None\n",
    "    \n",
    "    def create_dict(self, lines):\n",
    "        '''Create a dictionary where key is the line number and value is the number from the line'''\n",
    "        dict_data = {}\n",
    "        for index, line in enumerate(lines, start=1): \n",
    "            try:\n",
    "                number = int(line)  \n",
    "                dict_data[index] = number  \n",
    "            except ValueError:\n",
    "                continue  \n",
    "        return dict_data\n",
    "\n",
    "\n",
    "obj = Dictionary()\n",
    "lines = obj.read_file()  \n",
    "if lines:  \n",
    "    dict_data = obj.create_dict(lines)  \n",
    "    if dict_data: \n",
    "        print(\"Dictionary based on position and values of the numbers:\", dict_data)\n",
    "    else:\n",
    "        print(\"No valid numbers found in the file.\")\n"
   ]
  },
  {
   "cell_type": "markdown",
   "metadata": {},
   "source": [
    ">31. Create a class for file reading file if the file contains number, then return the dictionary based on user object, having sub dictionary position and values of the number against that user file."
   ]
  },
  {
   "cell_type": "code",
   "execution_count": 2,
   "metadata": {},
   "outputs": [
    {
     "name": "stdout",
     "output_type": "stream",
     "text": [
      "position 66 , value  6\n",
      "position 545 , value  10\n",
      "position 588 , value  10\n",
      "position 654 , value  50\n",
      "position 697 , value  50\n",
      "position 904 , value  720\n"
     ]
    }
   ],
   "source": [
    "logging.basicConfig(filename='count.log', level=logging.INFO)\n",
    "\n",
    "\n",
    "class FileRead:\n",
    "    def read_and_count(self, filename):\n",
    "        values = {}  \n",
    "        try:\n",
    "            with open(filename, 'r') as file:\n",
    "                num = \"\"  \n",
    "                pos = None  \n",
    "\n",
    "                while (char := file.read(1)): \n",
    "                    if char.isdigit():\n",
    "                        if num == \"\":  \n",
    "                            pos = file.tell() - 1  \n",
    "                        num += char  \n",
    "                    else:\n",
    "                        if num:  \n",
    "                            values[pos] = int(num)  \n",
    "                            num = \"\" \n",
    "                            pos = None \n",
    "                \n",
    "                \n",
    "                if num:\n",
    "                    values[pos] = int(num)\n",
    "\n",
    "                logging.info(\"Executed successfully\")\n",
    "                return values\n",
    "\n",
    "        except FileNotFoundError:\n",
    "            logging.error('File not found')\n",
    "            print('File not found')\n",
    "        except Exception:\n",
    "            print(f'Unknown exception: {sys.exc_info()[1]}')\n",
    "            logging.error(sys.exc_info()[1])\n",
    "\n",
    "    def display(self,d):\n",
    "        try:\n",
    "            for i in d.keys():\n",
    "                print(f'position {i} , value  {d.get(i)}')\n",
    "        except:\n",
    "            print(f'unown exception{sys.exc_info()[1]}')\n",
    "            logging.error(sys.exc_info()[1])\n",
    "\n",
    "\n",
    "\n",
    "result = FileRead()\n",
    "data = result.read_and_count(r'Text.txt')\n",
    "if data:\n",
    "    result.display(data)\n"
   ]
  },
  {
   "cell_type": "markdown",
   "metadata": {},
   "source": [
    ">32. In hotel booking portal, user will enter pan card name and mobile number, store the same information into dictionary after successful booking user will get confirmation number. "
   ]
  },
  {
   "cell_type": "code",
   "execution_count": null,
   "metadata": {},
   "outputs": [
    {
     "name": "stdout",
     "output_type": "stream",
     "text": [
      "\n",
      "Booking successful!\n",
      "Your confirmation number is: N4TEBA9F\n",
      "\n",
      "Booking Details for N4TEBA9F:\n",
      "PAN Card: AAAAA1111A\n",
      "Mobile Number: 1234567890\n"
     ]
    }
   ],
   "source": [
    "class HotelBookingPortal:\n",
    "    def __init__(self):\n",
    "        self.bookings = {}\n",
    "\n",
    "    def generate_confirmation_number(self):\n",
    "        \"\"\"Generate a random 8-character alphanumeric confirmation number.\"\"\"\n",
    "        return ''.join(random.choices(string.ascii_uppercase + string.digits, k=8))\n",
    "\n",
    "    def book_hotel(self):\n",
    "        \"\"\"Handle the hotel booking process.\"\"\"\n",
    "        pan_card = input(\"Enter PAN card number: \")\n",
    "        mobile_number = input(\"Enter mobile number: \")\n",
    "\n",
    "        \n",
    "        if not pan_card or not mobile_number:\n",
    "            print(\"Error: Both PAN card and mobile number are required.\")\n",
    "            return\n",
    "\n",
    "        \n",
    "        confirmation_number = self.generate_confirmation_number()\n",
    "\n",
    "        \n",
    "        self.bookings[confirmation_number] = {\n",
    "            \"pan_card\": pan_card,\n",
    "            \"mobile_number\": mobile_number\n",
    "        }\n",
    "\n",
    "       \n",
    "        print(f\"\\nBooking successful!\")\n",
    "        print(f\"Your confirmation number is: {confirmation_number}\")\n",
    "\n",
    "    def display_booking(self, confirmation_number):\n",
    "        \"\"\"Display booking details for a given confirmation number.\"\"\"\n",
    "        if confirmation_number in self.bookings:\n",
    "            booking = self.bookings[confirmation_number]\n",
    "            print(f\"\\nBooking Details for {confirmation_number}:\")\n",
    "            print(f\"PAN Card: {booking['pan_card']}\")\n",
    "            print(f\"Mobile Number: {booking['mobile_number']}\")\n",
    "        else:\n",
    "            print(f\"No booking found for confirmation number: {confirmation_number}\")\n",
    "\n",
    "\n",
    "portal = HotelBookingPortal()\n",
    "portal.book_hotel()\n",
    "confirmation = input(\"\\nEnter confirmation number to view details (or press Enter to skip): \")\n",
    "if confirmation:\n",
    "    portal.display_booking(confirmation)"
   ]
  },
  {
   "cell_type": "markdown",
   "metadata": {},
   "source": [
    ">33. Create a super class user. Having methods register, sing in, sign out.    Super class can be inherited by student, professor, admin.Admin and students can view the marks and professor can enter the marks\n",
    "But marks can be visible to students on the given result date\n"
   ]
  },
  {
   "cell_type": "code",
   "execution_count": null,
   "metadata": {},
   "outputs": [
    {
     "name": "stdout",
     "output_type": "stream",
     "text": [
      "\n",
      "1. Student\n",
      "2. Professor\n",
      "3. Admin\n",
      "4. Exit\n"
     ]
    },
    {
     "name": "stdout",
     "output_type": "stream",
     "text": [
      "\n",
      "1. Create Student Account\n",
      "2. Sign In and View Marks\n",
      "\n",
      "1. Student\n",
      "2. Professor\n",
      "3. Admin\n",
      "4. Exit\n",
      "Invalid choice! Please enter a valid option.\n",
      "\n",
      "1. Student\n",
      "2. Professor\n",
      "3. Admin\n",
      "4. Exit\n",
      "Invalid choice! Please enter a valid option.\n",
      "\n",
      "1. Student\n",
      "2. Professor\n",
      "3. Admin\n",
      "4. Exit\n",
      "\n",
      "1. Create Student Account\n",
      "2. Sign In and View Marks\n",
      "amal registered successfully!\n",
      "\n",
      "1. Student\n",
      "2. Professor\n",
      "3. Admin\n",
      "4. Exit\n",
      "Exiting the system. Goodbye!\n"
     ]
    }
   ],
   "source": [
    "class User:\n",
    "    def __init__(self, username, password):\n",
    "        self.username = username\n",
    "        self.password = password\n",
    "        self.logged_in = False\n",
    "\n",
    "    def register(self):\n",
    "        print(f\"{self.username} registered successfully!\")\n",
    "\n",
    "    def sign_in(self):\n",
    "        username = input(\"Enter username: \")\n",
    "        password = input(\"Enter password: \")\n",
    "        if self.username == username and self.password == password:\n",
    "            self.logged_in = True\n",
    "            print(f\"{self.username} signed in successfully!\")\n",
    "        else:\n",
    "            print(\"Invalid username or password!\")\n",
    "\n",
    "    def sign_out(self):\n",
    "        if self.logged_in:\n",
    "            self.logged_in = False\n",
    "            print(f\"{self.username} signed out successfully!\")\n",
    "        else:\n",
    "            print(\"User is not logged in!\")\n",
    "\n",
    "\n",
    "class Student(User):\n",
    "    def __init__(self, username, password):\n",
    "        super().__init__(username, password)\n",
    "        self.marks = None  \n",
    "\n",
    "    def view_marks(self, result_date):\n",
    "        '''Students can view marks only on or after the result date'''\n",
    "        if not self.logged_in:\n",
    "            print(\"Please sign in first to view marks!\")\n",
    "            return\n",
    "        \n",
    "        current_date = datetime.today().date()\n",
    "        if self.marks is not None and current_date >= result_date:\n",
    "            print(f\"{self.username}'s Marks: {self.marks}\")\n",
    "        else:\n",
    "            print(\"Marks not available yet. Please wait for the result date.\")\n",
    "\n",
    "\n",
    "class Professor(User):\n",
    "    def __init__(self, username, password):\n",
    "        super().__init__(username, password)\n",
    "\n",
    "    def enter_marks(self, student):\n",
    "        '''Professor can enter marks for students'''\n",
    "        if not self.logged_in:\n",
    "            print(\"Professor must be signed in to enter marks!\")\n",
    "            return\n",
    "        \n",
    "        try:\n",
    "            marks = int(input(f\"Enter marks for {student.username}: \"))\n",
    "            student.marks = marks\n",
    "            print(f\"Marks entered for {student.username}: {marks}\")\n",
    "        except ValueError:\n",
    "            print(\"Invalid input! Please enter a valid number.\")\n",
    "\n",
    "\n",
    "class Admin(User):\n",
    "    def __init__(self, username, password):\n",
    "        super().__init__(username, password)\n",
    "\n",
    "    def view_student_marks(self, student):\n",
    "        '''Admin can view student marks at any time'''\n",
    "        if not self.logged_in:\n",
    "            print(\"Admin must be signed in to view marks!\")\n",
    "            return\n",
    "        \n",
    "        print(f\"Admin viewing {student.username}'s Marks: {student.marks if student.marks is not None else 'No marks entered yet'}\")\n",
    "\n",
    "\n",
    "students = {}\n",
    "professors = {}\n",
    "admins = {}\n",
    "\n",
    "while True:\n",
    "    print(\"\\n1. Student\\n2. Professor\\n3. Admin\\n4. Exit\")\n",
    "    choice = input(\"Choose an option: \")\n",
    "\n",
    "    if choice == \"1\":  \n",
    "        print(\"\\n1. Create Student Account\\n2. Sign In and View Marks\")\n",
    "        choice1 = input(\"Choose an option: \")\n",
    "\n",
    "        if choice1 == \"1\":\n",
    "            v1 = input(\"Enter Username: \")\n",
    "            v2 = input(\"Enter Password: \")\n",
    "            if v1 in students:\n",
    "                print(\"Username already exists!\")\n",
    "            else:\n",
    "                students[v1] = Student(v1, v2)\n",
    "                students[v1].register()\n",
    "\n",
    "        elif choice1 == \"2\":\n",
    "            v1 = input(\"Enter Username: \")\n",
    "            if v1 in students:\n",
    "                student = students[v1]\n",
    "                student.sign_in()\n",
    "                result_date = datetime(2025, 3, 1).date()\n",
    "                student.view_marks(result_date)\n",
    "                student.sign_out()\n",
    "            else:\n",
    "                print(\"Student does not exist!\")\n",
    "\n",
    "    elif choice == \"2\":  \n",
    "        print(\"\\n1. Create Professor Account\\n2. Sign In and Enter Marks\")\n",
    "        choice2 = input(\"Choose an option: \")\n",
    "\n",
    "        if choice2 == \"1\":\n",
    "            v1 = input(\"Enter Username: \")\n",
    "            v2 = input(\"Enter Password: \")\n",
    "            if v1 in professors:\n",
    "                print(\"Username already exists!\")\n",
    "            else:\n",
    "                professors[v1] = Professor(v1, v2)\n",
    "                professors[v1].register()\n",
    "\n",
    "        elif choice2 == \"2\":\n",
    "            v1 = input(\"Enter Username: \")\n",
    "            if v1 in professors:\n",
    "                professor = professors[v1]\n",
    "                professor.sign_in()\n",
    "                v2 = input(\"Enter Student Username to Assign Marks: \")\n",
    "                if v2 in students:\n",
    "                    professor.enter_marks(students[v2])\n",
    "                else:\n",
    "                    print(\"Student not found!\")\n",
    "                professor.sign_out()\n",
    "            else:\n",
    "                print(\"Professor does not exist!\")\n",
    "\n",
    "    elif choice == \"3\":  \n",
    "        print(\"\\n1. Create Admin Account\\n2. Sign In and View Student Marks\")\n",
    "        choice3 = input(\"Choose an option: \")\n",
    "\n",
    "        if choice3 == \"1\":\n",
    "            v1 = input(\"Enter Username: \")\n",
    "            v2 = input(\"Enter Password: \")\n",
    "            if v1 in admins:\n",
    "                print(\"Username already exists!\")\n",
    "            else:\n",
    "                admins[v1] = Admin(v1, v2)\n",
    "                admins[v1].register()\n",
    "\n",
    "        elif choice3 == \"2\":\n",
    "            v1 = input(\"Enter Username: \")\n",
    "            if v1 in admins:\n",
    "                admin = admins[v1]\n",
    "                admin.sign_in()\n",
    "                v2 = input(\"Enter Student Username to View Marks: \")\n",
    "                if v2 in students:\n",
    "                    admin.view_student_marks(students[v2])\n",
    "                else:\n",
    "                    print(\"Student not found!\")\n",
    "                admin.sign_out()\n",
    "            else:\n",
    "                print(\"Admin does not exist!\")\n",
    "\n",
    "    elif choice == \"4\":  \n",
    "        print(\"Exiting the system!\")\n",
    "        break\n",
    "\n",
    "    else:\n",
    "        print(\"Invalid choice! Please enter a valid option.\")\n"
   ]
  },
  {
   "cell_type": "markdown",
   "metadata": {},
   "source": [
    ">34. Create suitable classes, methods and attributes for resume exchange. Employee to upload the file and the same file is visible to employer "
   ]
  },
  {
   "cell_type": "code",
   "execution_count": 5,
   "metadata": {},
   "outputs": [
    {
     "name": "stdout",
     "output_type": "stream",
     "text": [
      "\n",
      "1. Employee\n",
      "2. Employer\n",
      "3. Exit\n",
      "\n",
      "1. Create Employee Account\n",
      "2. Sign In and Upload Resume\n",
      "Employee amal registered successfully!\n",
      "\n",
      "1. Employee\n",
      "2. Employer\n",
      "3. Exit\n",
      "\n",
      "1. Create Employer Account\n",
      "2. Sign In and View Resumes\n",
      "Employer 2 registered successfully!\n",
      "\n",
      "1. Employee\n",
      "2. Employer\n",
      "3. Exit\n",
      "\n",
      "1. Create Employer Account\n",
      "2. Sign In and View Resumes\n",
      "Employer does not exist!\n",
      "\n",
      "1. Employee\n",
      "2. Employer\n",
      "3. Exit\n",
      "Invalid choice! Please enter a valid option.\n",
      "\n",
      "1. Employee\n",
      "2. Employer\n",
      "3. Exit\n",
      "Exiting the system!\n"
     ]
    }
   ],
   "source": [
    "class User:\n",
    "    def __init__(self, username, password):\n",
    "        self.username = username\n",
    "        self.password = password\n",
    "        self.logged_in = False\n",
    "\n",
    "    def sign_in(self):\n",
    "        username = input(\"Enter username: \")\n",
    "        password = input(\"Enter password: \")\n",
    "        if self.username == username and self.password == password:\n",
    "            self.logged_in = True\n",
    "            print(f\"{self.username} signed in successfully!\")\n",
    "        else:\n",
    "            print(\"Invalid username or password!\")\n",
    "\n",
    "    def sign_out(self):\n",
    "        if self.logged_in:\n",
    "            self.logged_in = False\n",
    "            print(f\"{self.username} signed out successfully!\")\n",
    "        else:\n",
    "            print(\"User is not logged in!\")\n",
    "\n",
    "\n",
    "class Employee(User):\n",
    "    def __init__(self, username, password):\n",
    "        super().__init__(username, password)\n",
    "        self.resume = None  \n",
    "\n",
    "    def upload_resume(self):\n",
    "        '''Employees upload their resume'''\n",
    "        if not self.logged_in:\n",
    "            print(\"Please sign in first to upload resume!\")\n",
    "            return\n",
    "        \n",
    "        file_name = input(\"Enter the resume file name: \")\n",
    "        try:\n",
    "            with open(file_name, \"r\") as file:\n",
    "                self.resume = file.read()\n",
    "                print(f\"Resume uploaded successfully by {self.username}!\")\n",
    "        except FileNotFoundError:\n",
    "            print(\"File not found! Please check the filename and try again.\")\n",
    "\n",
    "\n",
    "class Employer(User):\n",
    "    def __init__(self, username, password):\n",
    "        super().__init__(username, password)\n",
    "\n",
    "    def view_resumes(self, employees):\n",
    "        '''Employers can view all uploaded resumes'''\n",
    "        if not self.logged_in:\n",
    "            print(\"Employer must sign in to view resumes!\")\n",
    "            return\n",
    "        \n",
    "        print(\"\\n--- Available Resumes ---\")\n",
    "        found = False\n",
    "        for emp in employees.values():\n",
    "            if emp.resume:\n",
    "                print(f\"\\n{emp.username}'s Resume:\\n{emp.resume}\")\n",
    "                found = True\n",
    "        \n",
    "        if not found:\n",
    "            print(\"No resumes available yet.\")\n",
    "\n",
    "\n",
    "employees = {}\n",
    "employers = {}\n",
    "\n",
    "while True:\n",
    "    print(\"\\n1. Employee\\n2. Employer\\n3. Exit\")\n",
    "    choice = input(\"Choose an option: \")\n",
    "\n",
    "    if choice == \"1\":  \n",
    "        print(\"\\n1. Create Employee Account\\n2. Sign In and Upload Resume\")\n",
    "        choice1 = input(\"Choose an option: \")\n",
    "\n",
    "        if choice1 == \"1\":\n",
    "            v1 = input(\"Enter Username: \")\n",
    "            v2 = input(\"Enter Password: \")\n",
    "            if v1 in employees:\n",
    "                print(\"Username already exists!\")\n",
    "            else:\n",
    "                employees[v1] = Employee(v1, v2)\n",
    "                print(f\"Employee {v1} registered successfully!\")\n",
    "\n",
    "        elif choice1 == \"2\":\n",
    "            v1 = input(\"Enter Username: \")\n",
    "            if v1 in employees:\n",
    "                employee = employees[v1]\n",
    "                employee.sign_in()\n",
    "                employee.upload_resume()\n",
    "                employee.sign_out()\n",
    "            else:\n",
    "                print(\"Employee does not exist!\")\n",
    "\n",
    "    elif choice == \"2\":  \n",
    "        print(\"\\n1. Create Employer Account\\n2. Sign In and View Resumes\")\n",
    "        choice2 = input(\"Choose an option: \")\n",
    "\n",
    "        if choice2 == \"1\":\n",
    "            v1 = input(\"Enter Username: \")\n",
    "            v2 = input(\"Enter Password: \")\n",
    "            if v1 in employers:\n",
    "                print(\"Username already exists!\")\n",
    "            else:\n",
    "                employers[v1] = Employer(v1, v2)\n",
    "                print(f\"Employer {v1} registered successfully!\")\n",
    "\n",
    "        elif choice2 == \"2\":\n",
    "            v1 = input(\"Enter Username: \")\n",
    "            if v1 in employers:\n",
    "                employer = employers[v1]\n",
    "                employer.sign_in()\n",
    "                employer.view_resumes(employees)\n",
    "                employer.sign_out()\n",
    "            else:\n",
    "                print(\"Employer does not exist!\")\n",
    "\n",
    "    elif choice == \"3\": \n",
    "        print(\"Exiting the system!\")\n",
    "        break\n",
    "\n",
    "    else:\n",
    "        print(\"Invalid choice! Please enter a valid option.\")\n"
   ]
  },
  {
   "cell_type": "markdown",
   "metadata": {},
   "source": [
    ">35. Perform the database connectivity and save all employee details in the database \n",
    "Like name, mobile, address.Create the proper class with methods like user information, calculate the salary, apply for the leave, view leaves, approve leaves. Records for leave application should be stored in dummy table (temporary view). Once the leave is approved then it should move to permanent table.\n",
    "\n",
    "\n"
   ]
  },
  {
   "cell_type": "code",
   "execution_count": 8,
   "metadata": {},
   "outputs": [
    {
     "name": "stdout",
     "output_type": "stream",
     "text": [
      "Employee Amal added successfully!\n",
      "(1, 'Amal', '1234567890', '123 Street, Pune City', 480099.0)\n",
      "Leave applied successfully!\n",
      "(1, 1, '2025-02-20', '2025-02-25', 'Pending')\n",
      "Leave approved and moved to permanent records.\n"
     ]
    }
   ],
   "source": [
    "class EmployeeDB:\n",
    "    def __init__(self):\n",
    "        self.conn = pyodbc.connect(\n",
    "            \"Driver={SQL Server};\"\n",
    "            \"Server=LAPTOP-HKILR459;\"  \n",
    "            \"Database=EmployeeManagement;\" \n",
    "            \"Trusted_Connection=yes;\" \n",
    "        )\n",
    "        self.cursor = self.conn.cursor()\n",
    "\n",
    "    def add_employee(self, name, mobile, address, salary):\n",
    "        \"\"\"Insert a new employee record into the Employees table.\"\"\"\n",
    "        self.cursor.execute(\"\"\"\n",
    "        INSERT INTO Employees (name, mobile, address, salary) \n",
    "        VALUES (?, ?, ?, ?)\n",
    "        \"\"\", (name, mobile, address, salary))\n",
    "        self.conn.commit()\n",
    "        print(f\"Employee {name} added successfully!\")\n",
    "\n",
    "    def view_employees(self):\n",
    "        \"\"\"Fetch and display all employees.\"\"\"\n",
    "        self.cursor.execute(\"SELECT * FROM Employees\")\n",
    "        for row in self.cursor.fetchall():\n",
    "            print(row)\n",
    "\n",
    "    def apply_leave(self, emp_id, start_date, end_date):\n",
    "        \"\"\"Employee applies for leave.\"\"\"\n",
    "        self.cursor.execute(\"\"\"\n",
    "        INSERT INTO LeaveApplications (emp_id, start_date, end_date) \n",
    "        VALUES (?, ?, ?)\n",
    "        \"\"\", (emp_id, start_date, end_date))\n",
    "        self.conn.commit()\n",
    "        print(\"Leave applied successfully!\")\n",
    "\n",
    "    def view_pending_leaves(self):\n",
    "        \"\"\"Admin views pending leave applications.\"\"\"\n",
    "        self.cursor.execute(\"SELECT * FROM LeaveApplications WHERE status='Pending'\")\n",
    "        for row in self.cursor.fetchall():\n",
    "            print(row)\n",
    "\n",
    "    def approve_leave(self, leave_id):\n",
    "        \"\"\"Admin approves leave and moves it to the ApprovedLeaves table.\"\"\"\n",
    "        self.cursor.execute(\"SELECT emp_id, start_date, end_date FROM LeaveApplications WHERE leave_id=?\", (leave_id,))\n",
    "        leave = self.cursor.fetchone()\n",
    "        \n",
    "        if leave:\n",
    "            emp_id, start_date, end_date = leave\n",
    "            self.cursor.execute(\"\"\"\n",
    "            INSERT INTO ApprovedLeaves (emp_id, start_date, end_date) \n",
    "            VALUES (?, ?, ?)\n",
    "            \"\"\", (emp_id, start_date, end_date))\n",
    "            \n",
    "            self.cursor.execute(\"DELETE FROM LeaveApplications WHERE leave_id=?\", (leave_id,))\n",
    "            self.conn.commit()\n",
    "            print(\"Leave approved and moved to permanent records.\")\n",
    "        else:\n",
    "            print(\"Leave ID not found!\")\n",
    "\n",
    "\n",
    "db = EmployeeDB()\n",
    "db.add_employee(\"Amal\", \"1234567890\", \"123 Street, Pune City\", 480099)\n",
    "db.view_employees()\n",
    "db.apply_leave(1, \"2025-02-20\", \"2025-02-25\")\n",
    "db.view_pending_leaves()\n",
    "db.approve_leave(1)\n"
   ]
  }
 ],
 "metadata": {
  "kernelspec": {
   "display_name": "base",
   "language": "python",
   "name": "python3"
  },
  "language_info": {
   "codemirror_mode": {
    "name": "ipython",
    "version": 3
   },
   "file_extension": ".py",
   "mimetype": "text/x-python",
   "name": "python",
   "nbconvert_exporter": "python",
   "pygments_lexer": "ipython3",
   "version": "3.10.9"
  }
 },
 "nbformat": 4,
 "nbformat_minor": 2
}
