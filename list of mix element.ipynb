{
 "cells": [
  {
   "cell_type": "code",
   "execution_count": 9,
   "metadata": {},
   "outputs": [
    {
     "name": "stdout",
     "output_type": "stream",
     "text": [
      "Strings:  ['We', 'We', 'Er', 'We', 'Er', 'To']\n",
      "Integers:  ['12', '12', '23', '12', '23', '12', '23', '12', '23']\n"
     ]
    }
   ],
   "source": [
    "l1 = []\n",
    "v1 = []\n",
    "s1 = []\n",
    "\n",
    "while True:\n",
    "    input_str = input(\"Enter a value (stop to end): \")\n",
    "    val = input_str.capitalize()\n",
    "\n",
    "    if val == \"Stop\":\n",
    "        break\n",
    "    else:\n",
    "        l1.append(val)\n",
    "        for i in l1:\n",
    "            if i.isalpha():\n",
    "                v1.append(i)\n",
    "            elif i.isdigit():\n",
    "                s1.append(i)\n",
    "            else:\n",
    "                print(\"Invalid input\")\n",
    "\n",
    "\n",
    "print(\"Strings: \", v1)\n",
    "print(\"Integers: \", s1)\n"
   ]
  }
 ],
 "metadata": {
  "kernelspec": {
   "display_name": "base",
   "language": "python",
   "name": "python3"
  },
  "language_info": {
   "codemirror_mode": {
    "name": "ipython",
    "version": 3
   },
   "file_extension": ".py",
   "mimetype": "text/x-python",
   "name": "python",
   "nbconvert_exporter": "python",
   "pygments_lexer": "ipython3",
   "version": "3.10.9"
  }
 },
 "nbformat": 4,
 "nbformat_minor": 2
}
